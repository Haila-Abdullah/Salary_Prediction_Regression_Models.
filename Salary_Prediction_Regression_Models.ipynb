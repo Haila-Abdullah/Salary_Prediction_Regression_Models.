{
  "cells": [
    {
      "cell_type": "markdown",
      "metadata": {
        "id": "view-in-github",
        "colab_type": "text"
      },
      "source": [
        "<a href=\"https://colab.research.google.com/github/Haila-Abdullah/Salary_Prediction_Regression_Models./blob/main/Salary_Prediction_Regression_Models.ipynb\" target=\"_parent\"><img src=\"https://colab.research.google.com/assets/colab-badge.svg\" alt=\"Open In Colab\"/></a>"
      ]
    },
    {
      "cell_type": "markdown",
      "metadata": {
        "id": "ae4f467nbZLl"
      },
      "source": [
        "<p style=\"text-align:center\">\n",
        "    <a href=\"https://skills.network/?utm_medium=Exinfluencer&utm_source=Exinfluencer&utm_content=000026UJ&utm_term=10006555&utm_id=NA-SkillsNetwork-Channel-SkillsNetworkCoursesIBMDeveloperSkillsNetworkML0101ENSkillsNetwork20718538-2022-01-01\">\n",
        "    <img src=\"https://cf-courses-data.s3.us.cloud-object-storage.appdomain.cloud/assets/logos/SN_web_lightmode.png\" width=\"200\" alt=\"Skills Network Logo\"  />\n",
        "    </a>\n",
        "</p>\n",
        "\n",
        "<h1 align=\"center\"><font size=\"5\">Supervised Machine Learning: Regression - Final Assignment</font></h1>\n"
      ]
    },
    {
      "cell_type": "markdown",
      "metadata": {
        "id": "Lu_-6u6NbZLv"
      },
      "source": [
        "## Instructions:\n",
        "\n",
        "In this Assignment, you will demonstrate the data regression skills you have learned by completing this course. You are expected to leverage a wide variety of tools, but also this report should focus on present findings, insights, and next steps. You may include some visuals from your code output, but this report is intended as a summary of your findings, not as a code review.\n",
        "\n",
        "The grading will center around 5 main points:\n",
        "\n",
        "1. Does the report include a section describing the data?\n",
        "2. Does the report include a paragraph detailing the main objective(s) of this analysis?\n",
        "3. Does the report include a section with variations of linear regression models and specifies which one is the model that best suits the main objective(s) of this analysis.\n",
        "4. Does the report include a clear and well-presented section with key findings related to the main objective(s) of the analysis?\n",
        "5. Does the report highlight possible flaws in the model and a plan of action to revisit this analysis with additional data or different predictive modeling techniques?\n",
        "\n",
        "\n"
      ]
    },
    {
      "cell_type": "markdown",
      "metadata": {
        "id": "sDtNlbixbZLx"
      },
      "source": [
        "## Import the required libraries\n"
      ]
    },
    {
      "cell_type": "code",
      "execution_count": 27,
      "metadata": {
        "id": "vNefRHwQbZL2"
      },
      "outputs": [],
      "source": [
        "import pandas as pd\n",
        "import numpy as np\n",
        "import seaborn as sns\n",
        "import matplotlib.pyplot as plt\n",
        "from sklearn.linear_model import LinearRegression, Ridge, Lasso\n",
        "from sklearn.model_selection import train_test_split\n",
        "from sklearn.metrics import mean_squared_error, r2_score\n",
        "from sklearn.preprocessing import PolynomialFeatures\n"
      ]
    },
    {
      "cell_type": "markdown",
      "metadata": {
        "id": "0lySLVgmbZL4"
      },
      "source": [
        "## Importing the Dataset\n"
      ]
    },
    {
      "cell_type": "markdown",
      "metadata": {
        "id": "I_GnaW9FbZL5"
      },
      "source": [
        "Before you begin, you will need to choose a data set that you feel passionate about. You can brainstorm with your peers about great public data sets using the discussion board in this module.\n"
      ]
    },
    {
      "cell_type": "markdown",
      "metadata": {
        "id": "BHHWUJNNbZL6"
      },
      "source": [
        "Read your chosen dataset into pandas dataframe:\n"
      ]
    },
    {
      "cell_type": "code",
      "execution_count": 28,
      "metadata": {
        "id": "qm82Eg6sbZL7"
      },
      "outputs": [],
      "source": [
        "# Load the dataset\n",
        "df = pd.read_csv('/content/Salary_dataset.csv')"
      ]
    },
    {
      "cell_type": "markdown",
      "metadata": {
        "id": "bkTZJLtcbZL8"
      },
      "source": [
        "Once you have selected a data set, you will produce the deliverables listed below and submit them to one of your peers for review. Treat this exercise as an opportunity to produce analysis that are ready to highlight your analytical skills for a senior audience, for example, the Chief Data Officer, or the Head of Analytics at your company.\n",
        "Sections required in your report:\n",
        "\n",
        "*   Main objective of the analysis that specifies whether your model will be focused on prediction or interpretation.\n",
        "*   Brief description of the data set you chose and a summary of its attributes.\n",
        "*   Brief summary of data exploration and actions taken for data cleaning and feature engineering.\n",
        "*   Summary of training at least three linear regression models which should be variations that cover using a simple  linear regression as a baseline, adding polynomial effects, and using a regularization regression. Preferably, all use the same training and test splits, or the same cross-validation method.\n",
        "*  A paragraph explaining which of your regressions you recommend as a final model that best fits your needs in terms of accuracy and explainability.\n",
        "*  Summary Key Findings and Insights, which walks your reader through the main drivers of your model and insights from your data derived from your linear regression model.\n",
        "*  Suggestions for next steps in analyzing this data, which may include suggesting revisiting this model adding specific data features to achieve a better explanation or a better prediction.\n"
      ]
    },
    {
      "cell_type": "markdown",
      "metadata": {
        "id": "QJ5pFuHwbZL8"
      },
      "source": [
        "# 1. About the Data\n"
      ]
    },
    {
      "cell_type": "markdown",
      "source": [
        "\n",
        "The dataset used in this analysis contains two columns of interest: 'YearsExperience' and 'Salary'. The dataset aims to explore the relationship between an individual's years of experience and their corresponding salary. Here is a brief description of the dataset's attributes:\n",
        "\n",
        "- **YearsExperience**: The number of years of experience a person has in a particular field.\n",
        "\n",
        "- **Salary**: The corresponding salary of the individual based on their years of experience."
      ],
      "metadata": {
        "id": "S-SLQdnjdgBb"
      }
    },
    {
      "cell_type": "code",
      "execution_count": 29,
      "metadata": {
        "colab": {
          "base_uri": "https://localhost:8080/"
        },
        "id": "WkHJ-QmnbZL9",
        "outputId": "7d92db69-7976-462c-ed56-08afcecda182"
      },
      "outputs": [
        {
          "output_type": "stream",
          "name": "stdout",
          "text": [
            "   Unnamed: 0  YearsExperience   Salary\n",
            "0           0              1.2  39344.0\n",
            "1           1              1.4  46206.0\n",
            "2           2              1.6  37732.0\n",
            "3           3              2.1  43526.0\n",
            "4           4              2.3  39892.0\n"
          ]
        }
      ],
      "source": [
        "# Show the first few rows to get a quick overview\n",
        "print(df.head())  # Displays the first five rows"
      ]
    },
    {
      "cell_type": "code",
      "execution_count": 30,
      "metadata": {
        "colab": {
          "base_uri": "https://localhost:8080/"
        },
        "id": "SMfCSD4XbZL9",
        "outputId": "4f521769-56b5-46ee-957f-555305b4f897"
      },
      "outputs": [
        {
          "output_type": "stream",
          "name": "stdout",
          "text": [
            "<class 'pandas.core.frame.DataFrame'>\n",
            "RangeIndex: 30 entries, 0 to 29\n",
            "Data columns (total 3 columns):\n",
            " #   Column           Non-Null Count  Dtype  \n",
            "---  ------           --------------  -----  \n",
            " 0   Unnamed: 0       30 non-null     int64  \n",
            " 1   YearsExperience  30 non-null     float64\n",
            " 2   Salary           30 non-null     float64\n",
            "dtypes: float64(2), int64(1)\n",
            "memory usage: 852.0 bytes\n",
            "None\n"
          ]
        }
      ],
      "source": [
        "# Get information about the dataset, including the data types and any missing values\n",
        "print(df.info())"
      ]
    },
    {
      "cell_type": "code",
      "execution_count": 31,
      "metadata": {
        "colab": {
          "base_uri": "https://localhost:8080/"
        },
        "id": "-N74xfKBbZL9",
        "outputId": "fc945d70-c7ef-4c61-a414-203fe6d7a5b5"
      },
      "outputs": [
        {
          "output_type": "stream",
          "name": "stdout",
          "text": [
            "       Unnamed: 0  YearsExperience         Salary\n",
            "count   30.000000        30.000000      30.000000\n",
            "mean    14.500000         5.413333   76004.000000\n",
            "std      8.803408         2.837888   27414.429785\n",
            "min      0.000000         1.200000   37732.000000\n",
            "25%      7.250000         3.300000   56721.750000\n",
            "50%     14.500000         4.800000   65238.000000\n",
            "75%     21.750000         7.800000  100545.750000\n",
            "max     29.000000        10.600000  122392.000000\n"
          ]
        }
      ],
      "source": [
        "# Statistical summary of the dataset (mean, std, min, max, etc.)\n",
        "print(df.describe())"
      ]
    },
    {
      "cell_type": "code",
      "source": [
        "# Drop the unnecessary column 'Unnamed: 0'\n",
        "df = df.drop(columns=['Unnamed: 0'])"
      ],
      "metadata": {
        "id": "VIjOA5JvlY-Q"
      },
      "execution_count": 32,
      "outputs": []
    },
    {
      "cell_type": "code",
      "source": [
        "# Check for missing values\n",
        "print(df.isnull().sum())"
      ],
      "metadata": {
        "colab": {
          "base_uri": "https://localhost:8080/"
        },
        "id": "KnMumZAMf7av",
        "outputId": "d63d101f-88c9-4d82-d917-0fc227c099c9"
      },
      "execution_count": 33,
      "outputs": [
        {
          "output_type": "stream",
          "name": "stdout",
          "text": [
            "YearsExperience    0\n",
            "Salary             0\n",
            "dtype: int64\n"
          ]
        }
      ]
    },
    {
      "cell_type": "markdown",
      "metadata": {
        "id": "LKaX23ombZL-"
      },
      "source": [
        "# 2. Objectives\n"
      ]
    },
    {
      "cell_type": "markdown",
      "source": [
        "\n",
        "The main goal of this analysis is to predict an individual's **salary** based on their **years of experience** using different regression models. Specifically, we will explore three types of regression models:\n",
        "\n",
        "1- **Simple Linear Regression**: Used as a baseline to predict salary using only years of experience.\n",
        "\n",
        "2- **Polynomial Regression**: A more flexible model that adds polynomial features to capture non-linear relationships.\n",
        "\n",
        "3- **Regularized Regression (Ridge and Lasso)**: These models use regularization to control overfitting and improve prediction accuracy.\n",
        "\n",
        "We will compare these models in terms of accuracy and interpretability, using metrics like **R-squared and Mean Squared Error**.\n",
        "\n"
      ],
      "metadata": {
        "id": "_P4_KDccgBdt"
      }
    },
    {
      "cell_type": "markdown",
      "metadata": {
        "id": "YDP3KBWnbZL-"
      },
      "source": [
        "# 3. Linear Regression Models\n"
      ]
    },
    {
      "cell_type": "markdown",
      "source": [
        "We will train three different regression models:\n",
        "\n",
        "- **Simple Linear Regression**: This model uses a single feature (YearsExperience) to predict Salary.\n",
        "\n",
        "- **Polynomial Regression**: We will create polynomial features to capture non-linear relationships.\n",
        "\n",
        "- **Regularized Linear Regression (Ridge and Lasso)**: These models incorporate regularization to prevent overfitting.\n"
      ],
      "metadata": {
        "id": "gP2E18M2g4cI"
      }
    },
    {
      "cell_type": "code",
      "execution_count": 37,
      "metadata": {
        "colab": {
          "base_uri": "https://localhost:8080/"
        },
        "id": "Zc1zx6-MbZL_",
        "outputId": "18965b95-2300-4aad-dfa0-e3cdcf9e6f9a"
      },
      "outputs": [
        {
          "output_type": "stream",
          "name": "stdout",
          "text": [
            "\n",
            "------------------- Simple Linear Regression Metrics -------------------\n",
            "Mean Squared Error: 37784662.47\n",
            "R2 Score: 0.941\n",
            "\n",
            "------------------- Ridge Regression Metrics -------------------\n",
            "Mean Squared Error: 38245807.92\n",
            "R2 Score: 0.941\n",
            "\n",
            "------------------- Lasso Regression Metrics -------------------\n",
            "Mean Squared Error: 37784759.44\n",
            "R2 Score: 0.941\n",
            "\n",
            "------------------- Polynomial Regression Metrics -------------------\n",
            "Mean Squared Error: 33481265.38\n",
            "R2 Score: 0.948\n"
          ]
        }
      ],
      "source": [
        "# Define the independent (X) and dependent (y) variables\n",
        "X = df[['YearsExperience']]  # Independent variable (Years of Experience)\n",
        "y = df['Salary']  # Dependent variable (Salary)\n",
        "\n",
        "# Split the dataset into training and testing sets\n",
        "X_train, X_test, y_train, y_test = train_test_split(X, y, test_size=0.3, random_state=42)\n",
        "\n",
        "# Initialize models\n",
        "lr = LinearRegression()\n",
        "ridge = Ridge(alpha=1)\n",
        "lasso = Lasso(alpha=0.1)\n",
        "\n",
        "# Train the models\n",
        "lr.fit(X_train, y_train)\n",
        "ridge.fit(X_train, y_train)\n",
        "lasso.fit(X_train, y_train)\n",
        "\n",
        "# Predict on the test set\n",
        "y_pred_lr = lr.predict(X_test)\n",
        "y_pred_ridge = ridge.predict(X_test)\n",
        "y_pred_lasso = lasso.predict(X_test)\n",
        "\n",
        "# Calculate performance metrics for each model\n",
        "print(\"\\n------------------- Simple Linear Regression Metrics -------------------\")\n",
        "print('Mean Squared Error:', round(mean_squared_error(y_test, y_pred_lr), 2))\n",
        "print('R2 Score:', round(r2_score(y_test, y_pred_lr), 3))\n",
        "\n",
        "print(\"\\n------------------- Ridge Regression Metrics -------------------\")\n",
        "print('Mean Squared Error:', round(mean_squared_error(y_test, y_pred_ridge), 2))\n",
        "print('R2 Score:', round(r2_score(y_test, y_pred_ridge), 3))\n",
        "\n",
        "print(\"\\n------------------- Lasso Regression Metrics -------------------\")\n",
        "print('Mean Squared Error:', round(mean_squared_error(y_test, y_pred_lasso), 2))\n",
        "print('R2 Score:', round(r2_score(y_test, y_pred_lasso), 3))\n",
        "\n",
        "# Polynomial Regression\n",
        "poly = PolynomialFeatures(degree=3)\n",
        "X_poly = poly.fit_transform(X)\n",
        "X_train_poly, X_test_poly, y_train, y_test = train_test_split(X_poly, y, test_size=0.3, random_state=42)\n",
        "\n",
        "# Fit and predict using polynomial regression\n",
        "poly_reg = LinearRegression()\n",
        "poly_reg.fit(X_train_poly, y_train)\n",
        "y_pred_poly = poly_reg.predict(X_test_poly)\n",
        "\n",
        "# Evaluate polynomial regression\n",
        "print(\"\\n------------------- Polynomial Regression Metrics -------------------\")\n",
        "print('Mean Squared Error:', round(mean_squared_error(y_test, y_pred_poly), 2))\n",
        "print('R2 Score:', round(r2_score(y_test, y_pred_poly), 3))\n"
      ]
    },
    {
      "cell_type": "markdown",
      "source": [
        "Upon comparison, it is evident that **polynomial regression** provided the best performance based on both **MSE** and **R2 Score**, achieving the lowest **MSE** and the highest **R2 Score**, suggesting it is the most suitable model in this case.\""
      ],
      "metadata": {
        "id": "FnfqYgNGm8Y5"
      }
    },
    {
      "cell_type": "markdown",
      "source": [
        "# **Visualizations**"
      ],
      "metadata": {
        "id": "zs-WbVlBnfnA"
      }
    },
    {
      "cell_type": "markdown",
      "source": [
        "**Simple Linear Regression**\n",
        "\n",
        "Plot the actual data points along with the linear regression line, showing the relationship between **Years of Experience** and **Salary**."
      ],
      "metadata": {
        "id": "aClsKff7oA0N"
      }
    },
    {
      "cell_type": "code",
      "execution_count": 38,
      "metadata": {
        "colab": {
          "base_uri": "https://localhost:8080/",
          "height": 472
        },
        "id": "jcb3ygRcbZL_",
        "outputId": "ecf054f7-7407-441e-b783-aa577e0d990c"
      },
      "outputs": [
        {
          "output_type": "display_data",
          "data": {
            "text/plain": [
              "<Figure size 640x480 with 1 Axes>"
            ],
            "image/png": "[encoded data removed]"
          },
          "metadata": {}
        }
      ],
      "source": [
        "# Visualize the results\n",
        "plt.scatter(X, y, color='blue')\n",
        "plt.plot(X, lr.predict(X), color='red')\n",
        "plt.title(\"Simple Linear Regression\")\n",
        "plt.xlabel(\"Years of Experience\")\n",
        "plt.ylabel(\"Salary\")\n",
        "plt.show()"
      ]
    },
    {
      "cell_type": "markdown",
      "source": [
        "**Polynomial Regression**\n",
        "\n",
        "A similar plot but with the polynomial regression line showing the non-linear relationship.\n"
      ],
      "metadata": {
        "id": "2zN4pHH4oTeN"
      }
    },
    {
      "cell_type": "code",
      "execution_count": 39,
      "metadata": {
        "colab": {
          "base_uri": "https://localhost:8080/",
          "height": 472
        },
        "id": "sA-WnYoQbZL_",
        "outputId": "bde2a5ed-c786-4e75-fcf9-28b4895df0e3"
      },
      "outputs": [
        {
          "output_type": "display_data",
          "data": {
            "text/plain": [
              "<Figure size 640x480 with 1 Axes>"
            ],
            "image/png": "[encoded data removed]"
          },
          "metadata": {}
        }
      ],
      "source": [
        "plt.scatter(X, y, color='blue')\n",
        "plt.plot(X, poly_reg.predict(poly.fit_transform(X)), color='green')\n",
        "plt.title(\"Polynomial Regression\")\n",
        "plt.xlabel(\"Years of Experience\")\n",
        "plt.ylabel(\"Salary\")\n",
        "plt.show()\n"
      ]
    },
    {
      "cell_type": "markdown",
      "metadata": {
        "id": "9CtxNaVAbZMB"
      },
      "source": [
        "# 4. Insights and key findings\n"
      ]
    },
    {
      "cell_type": "markdown",
      "source": [
        "Based on the regression models analyzed, we can summarize the following insights and key findings:\n",
        "\n",
        "- **Simple Linear Regression**: The Simple Linear Regression model performed quite well, with an R2 score of 0.941. This indicates a high degree of correlation between the years of experience and salary. The Mean Squared Error (MSE) for this model was 37,784,662, showing that the model can predict salary fairly accurately based on years of experience alone.\n",
        "\n",
        "- **Ridge Regression**: Ridge Regression performed similarly to Simple Linear Regression, with an R2 score of 0.941. However, the MSE was slightly higher at 38,245,808. The small increase in MSE is likely due to the regularization, which helps prevent overfitting. This model might be beneficial in cases with more complex datasets with multiple features.\n",
        "\n",
        "- **Lasso Regression**: Lasso Regression showed results almost identical to Simple Linear Regression with an R2 score of 0.941 and an MSE of 37,784,759. Lasso also applies regularization to control overfitting, which could help if additional features were included in the model.\n",
        "\n",
        "- **Polynomial Regression**: The Polynomial Regression model, which included cubic polynomial features, outperformed the linear models with an R2 score of 0.948 and an MSE of 33,481,265. The slight improvement in the R2 score and lower MSE indicate that the relationship between years of experience and salary is nonlinear, and the polynomial model is able to capture this better."
      ],
      "metadata": {
        "id": "CvWIE_iFpS1o"
      }
    },
    {
      "cell_type": "markdown",
      "metadata": {
        "id": "TBzLTVfHbZMC"
      },
      "source": [
        "# 5. Next Steps\n"
      ]
    },
    {
      "cell_type": "markdown",
      "source": [
        "Although the current models have performed well, there are some next steps that could improve the accuracy and generalizability of the model:\n",
        "\n",
        "- **Additional Data**: Collecting more data or including other features (such as industry, location, or education level) could help improve the model's accuracy and better capture salary variability.\n",
        "\n",
        "- **Cross-Validation**: Implementing cross-validation would give a more robust measure of model performance by ensuring that the model is not overfitting to a particular train-test split.\n",
        "\n",
        "- **Model Refinement**: Experimenting with other regression models such as Decision Trees or Random Forests could provide more accurate predictions, especially with non-linear relationships or larger datasets.\n",
        "\n",
        "- **Hyperparameter Tuning**: Fine-tuning the hyperparameters, especially for the Ridge and Lasso models, can lead to better performance and help prevent underfitting or overfitting.\n",
        "\n",
        "By following these next steps, we could potentially improve the model's predictive accuracy and generalizability to unseen data."
      ],
      "metadata": {
        "id": "dCBg3U56p1cr"
      }
    },
    {
      "cell_type": "markdown",
      "metadata": {
        "id": "8u-vVLBNbZMD"
      },
      "source": [
        "## <h3 align=\"center\"> © IBM Corporation 2020. All rights reserved. <h3/>\n"
      ]
    }
  ],
  "metadata": {
    "kernelspec": {
      "display_name": "Python 3",
      "name": "python3"
    },
    "language_info": {
      "name": "python"
    },
    "colab": {
      "provenance": [],
      "include_colab_link": true
    }
  },
  "nbformat": 4,
  "nbformat_minor": 0
}